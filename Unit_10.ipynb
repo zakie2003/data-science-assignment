{
 "cells": [
  {
   "cell_type": "markdown",
   "metadata": {},
   "source": [
    "#### ****Q10.1)Program to check  multicoleinearity betwwen the features****"
   ]
  },
  {
   "cell_type": "code",
   "execution_count": 2,
   "metadata": {},
   "outputs": [],
   "source": [
    "import numpy as np\n",
    "import pandas as pd\n",
    "from statsmodels.stats.outliers_influence import variance_inflation_factor\n",
    "from sklearn.naive_bayes import GaussianNB\n",
    "import numpy as np\n",
    "import pandas as pd\n",
    "from sklearn.preprocessing import MinMaxScaler\n",
    "from sklearn.model_selection import train_test_split\n",
    "from imblearn.over_sampling import SMOTE\n",
    "f=pd.read_csv(\"./Datasets/toy_data.csv\")\n",
    "new_cols=pd.get_dummies(f[\"Type\"])*1\n",
    "f=f.drop([\"Type\"],axis=1)\n",
    "f=pd.concat([new_cols,f],axis=1)\n",
    "minmax=MinMaxScaler()\n",
    "f[[\"Air temperature [K]\",\"Process temperature [K]\",\"Rotational speed [rpm]\",\"Torque [Nm]\",\"Tool wear [min]\"]]=minmax.fit_transform(f[[\"Air temperature [K]\",\"Process temperature [K]\",\"Rotational speed [rpm]\",\"Torque [Nm]\",\"Tool wear [min]\"]])\n",
    "f=f.drop([\"UDI\",\"Product ID\"],axis=1)\n",
    "res=f[\"Failure Type\"]\n",
    "f=f.drop([\"Failure Type\"],axis=1)"
   ]
  },
  {
   "cell_type": "code",
   "execution_count": null,
   "metadata": {},
   "outputs": [],
   "source": [
    "smote=SMOTE()\n",
    "x_train,x_test,y_train,y_test=train_test_split(f,res,test_size=0.2)\n",
    "x_train,y_train=smote.fit_resample(x_train,y_train)\n",
    "x_test,y_test=smote.fit_resample(x_test,y_test)"
   ]
  },
  {
   "cell_type": "code",
   "execution_count": 16,
   "metadata": {},
   "outputs": [],
   "source": [
    "smote=SMOTE()\n",
    "x_train,x_test,y_train,y_test=train_test_split(f,res,test_size=0.2)\n",
    "x_train,y_train=smote.fit_resample(x_train,y_train)\n",
    "x_test,y_test=smote.fit_resample(x_test,y_test)"
   ]
  },
  {
   "cell_type": "markdown",
   "metadata": {},
   "source": [
    "#### **Variance Inflation Factor Test**\n",
    "#### **1)VIF> 5 =  High Colienartity**\n",
    "#### **2)1<VIF<5 = Moderately Colienartity**\n",
    "#### **3)1 = VIF**"
   ]
  },
  {
   "cell_type": "code",
   "execution_count": 17,
   "metadata": {},
   "outputs": [
    {
     "name": "stdout",
     "output_type": "stream",
     "text": [
      "   VIF Factor                 features\n",
      "0   28.048058      Air temperature [K]\n",
      "1   39.553332  Process temperature [K]\n",
      "2    4.078960   Rotational speed [rpm]\n",
      "3    6.954241              Torque [Nm]\n",
      "4    3.796189          Tool wear [min]\n"
     ]
    }
   ],
   "source": [
    "\n",
    "X = f[['Air temperature [K]', 'Process temperature [K]', 'Rotational speed [rpm]','Torque [Nm]','Tool wear [min]']]\n",
    "\n",
    "# Calculate VIF for each independent variable\n",
    "vif = pd.DataFrame()\n",
    "vif[\"VIF Factor\"] = [variance_inflation_factor(X.values, i) for i in range(X.shape[1])]\n",
    "vif[\"features\"] = X.columns\n",
    "\n",
    "# Print the VIF results\n",
    "print(vif)"
   ]
  },
  {
   "cell_type": "markdown",
   "metadata": {},
   "source": [
    "#### **Q10.2)Program to apply PCA on the given Data set**"
   ]
  },
  {
   "cell_type": "code",
   "execution_count": 6,
   "metadata": {},
   "outputs": [],
   "source": [
    "f=pd.read_csv(\"./Datasets/toy_data.csv\")\n",
    "new_cols=pd.get_dummies(f[\"Type\"])*1\n",
    "f=f.drop([\"Type\"],axis=1)\n",
    "f=pd.concat([new_cols,f],axis=1)\n",
    "minmax=MinMaxScaler()\n",
    "f[[\"Air temperature [K]\",\"Process temperature [K]\",\"Rotational speed [rpm]\",\"Torque [Nm]\",\"Tool wear [min]\"]]=minmax.fit_transform(f[[\"Air temperature [K]\",\"Process temperature [K]\",\"Rotational speed [rpm]\",\"Torque [Nm]\",\"Tool wear [min]\"]])\n",
    "f=f.drop([\"UDI\",\"Product ID\"],axis=1)\n",
    "res=f[\"Failure Type\"]\n",
    "f=f.drop([\"Failure Type\"],axis=1)"
   ]
  },
  {
   "cell_type": "code",
   "execution_count": 7,
   "metadata": {},
   "outputs": [
    {
     "name": "stdout",
     "output_type": "stream",
     "text": [
      "(10000, 2)\n"
     ]
    }
   ],
   "source": [
    "from sklearn.decomposition import PCA\n",
    "principal=PCA(n_components=2)\n",
    "principal.fit(f)\n",
    "x=principal.transform(f)\n",
    "print(x.shape)"
   ]
  },
  {
   "cell_type": "code",
   "execution_count": 44,
   "metadata": {},
   "outputs": [
    {
     "name": "stdout",
     "output_type": "stream",
     "text": [
      "      Pricipal component 1  Principal component 2       label\n",
      "0                 0.905267              -0.198635  No Failure\n",
      "1                -0.502456              -0.064368  No Failure\n",
      "2                -0.502513              -0.063579  No Failure\n",
      "3                -0.502528              -0.063938  No Failure\n",
      "4                -0.502550              -0.064252  No Failure\n",
      "...                    ...                    ...         ...\n",
      "9995              0.905004              -0.200183  No Failure\n",
      "9996              0.318038               1.085126  No Failure\n",
      "9997              0.904850              -0.201607  No Failure\n",
      "9998              0.318017               1.083417  No Failure\n",
      "9999              0.904798              -0.202147  No Failure\n",
      "\n",
      "[10000 rows x 3 columns]\n"
     ]
    }
   ],
   "source": [
    "f=pd.DataFrame({\"Pricipal component 1\":x[:,0],\"Principal component 2\":x[:,1],\"label\":res})\n",
    "print(f)"
   ]
  },
  {
   "cell_type": "code",
   "execution_count": null,
   "metadata": {},
   "outputs": [],
   "source": []
  }
 ],
 "metadata": {
  "kernelspec": {
   "display_name": "tf",
   "language": "python",
   "name": "python3"
  },
  "language_info": {
   "codemirror_mode": {
    "name": "ipython",
    "version": 3
   },
   "file_extension": ".py",
   "mimetype": "text/x-python",
   "name": "python",
   "nbconvert_exporter": "python",
   "pygments_lexer": "ipython3",
   "version": "3.9.16"
  }
 },
 "nbformat": 4,
 "nbformat_minor": 2
}
