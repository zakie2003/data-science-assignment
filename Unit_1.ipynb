{
 "cells": [
  {
   "cell_type": "markdown",
   "metadata": {},
   "source": [
    "**Q1.1)Program to Demonstrate comments in python**"
   ]
  },
  {
   "cell_type": "code",
   "execution_count": 9,
   "metadata": {},
   "outputs": [
    {
     "name": "stdout",
     "output_type": "stream",
     "text": [
      "hello world\n"
     ]
    }
   ],
   "source": [
    "# Demonstrating use of comments in Python\n",
    "print(\"hello world\") #This is the hello world program"
   ]
  },
  {
   "cell_type": "markdown",
   "metadata": {},
   "source": [
    "**Q1.2) Excetion of commands in python**"
   ]
  },
  {
   "cell_type": "code",
   "execution_count": 10,
   "metadata": {},
   "outputs": [
    {
     "name": "stdout",
     "output_type": "stream",
     "text": [
      "Hello world.\n",
      "This gets excecuted after 2 seconds.\n",
      "This is getting ececuted after 3 seconds.\n"
     ]
    }
   ],
   "source": [
    "#Excetion of the Commands in Python\n",
    "import time\n",
    "print(\"Hello world.\")\n",
    "time.sleep(2)\n",
    "print(\"This gets excecuted after 2 seconds.\")\n",
    "time.sleep(3)\n",
    "print(\"This is getting ececuted after 3 seconds.\")"
   ]
  },
  {
   "cell_type": "markdown",
   "metadata": {},
   "source": [
    "**Q1.3)Importing Package with the help of Python**"
   ]
  },
  {
   "cell_type": "code",
   "execution_count": 11,
   "metadata": {},
   "outputs": [
    {
     "name": "stdout",
     "output_type": "stream",
     "text": [
      "3.141592653589793\n"
     ]
    }
   ],
   "source": [
    "# importing maths module\n",
    "import math\n",
    "print(math.pi) "
   ]
  },
  {
   "cell_type": "markdown",
   "metadata": {},
   "source": [
    "**Q1.4)Program to import dataset into program**"
   ]
  },
  {
   "cell_type": "code",
   "execution_count": 12,
   "metadata": {},
   "outputs": [
    {
     "name": "stdout",
     "output_type": "stream",
     "text": [
      "        UDI Product ID Type  Air temperature [K]  Process temperature [K]   \n",
      "0         1     M14860    M                298.1                    308.6  \\\n",
      "1         2     L47181    L                298.2                    308.7   \n",
      "2         3     L47182    L                298.1                    308.5   \n",
      "3         4     L47183    L                298.2                    308.6   \n",
      "4         5     L47184    L                298.2                    308.7   \n",
      "...     ...        ...  ...                  ...                      ...   \n",
      "9995   9996     M24855    M                298.8                    308.4   \n",
      "9996   9997     H39410    H                298.9                    308.4   \n",
      "9997   9998     M24857    M                299.0                    308.6   \n",
      "9998   9999     H39412    H                299.0                    308.7   \n",
      "9999  10000     M24859    M                299.0                    308.7   \n",
      "\n",
      "      Rotational speed [rpm]  Torque [Nm]  Tool wear [min] Failure Type  \n",
      "0                       1551         42.8                0   No Failure  \n",
      "1                       1408         46.3                3   No Failure  \n",
      "2                       1498         49.4                5   No Failure  \n",
      "3                       1433         39.5                7   No Failure  \n",
      "4                       1408         40.0                9   No Failure  \n",
      "...                      ...          ...              ...          ...  \n",
      "9995                    1604         29.5               14   No Failure  \n",
      "9996                    1632         31.8               17   No Failure  \n",
      "9997                    1645         33.4               22   No Failure  \n",
      "9998                    1408         48.5               25   No Failure  \n",
      "9999                    1500         40.2               30   No Failure  \n",
      "\n",
      "[10000 rows x 9 columns]\n"
     ]
    }
   ],
   "source": [
    "import pandas as pd\n",
    "content=pd.read_csv(\"./Datasets/toy_data.csv\")\n",
    "print(content)"
   ]
  },
  {
   "cell_type": "markdown",
   "metadata": {},
   "source": [
    "**Q1.5)Saving Output in Python.**"
   ]
  },
  {
   "cell_type": "code",
   "execution_count": 13,
   "metadata": {},
   "outputs": [
    {
     "name": "stdout",
     "output_type": "stream",
     "text": [
      "        UDI Product ID Type  Air temperature [K]  Process temperature [K]   \n",
      "0         1     M14860    M                298.1                    308.6  \\\n",
      "1         2     L47181    L                298.2                    308.7   \n",
      "2         3     L47182    L                298.1                    308.5   \n",
      "3         4     L47183    L                298.2                    308.6   \n",
      "4         5     L47184    L                298.2                    308.7   \n",
      "...     ...        ...  ...                  ...                      ...   \n",
      "9995   9996     M24855    M                298.8                    308.4   \n",
      "9996   9997     H39410    H                298.9                    308.4   \n",
      "9997   9998     M24857    M                299.0                    308.6   \n",
      "9998   9999     H39412    H                299.0                    308.7   \n",
      "9999  10000     M24859    M                299.0                    308.7   \n",
      "\n",
      "      Rotational speed [rpm]  Torque [Nm]  Tool wear [min] Failure Type  \n",
      "0                       1551         42.8                0   No Failure  \n",
      "1                       1408         46.3                3   No Failure  \n",
      "2                       1498         49.4                5   No Failure  \n",
      "3                       1433         39.5                7   No Failure  \n",
      "4                       1408         40.0                9   No Failure  \n",
      "...                      ...          ...              ...          ...  \n",
      "9995                    1604         29.5               14   No Failure  \n",
      "9996                    1632         31.8               17   No Failure  \n",
      "9997                    1645         33.4               22   No Failure  \n",
      "9998                    1408         48.5               25   No Failure  \n",
      "9999                    1500         40.2               30   No Failure  \n",
      "\n",
      "[10000 rows x 9 columns]\n"
     ]
    }
   ],
   "source": [
    "import pandas as pd\n",
    "input =pd.read_csv(\"./Datasets/toy_data.csv\")\n",
    "print(input)"
   ]
  },
  {
   "cell_type": "code",
   "execution_count": 14,
   "metadata": {},
   "outputs": [],
   "source": [
    "from sklearn.preprocessing import MinMaxScaler\n",
    "\n",
    "\n",
    "input.to_csv(\"./Datasets/saved_file.csv\",index=False)"
   ]
  },
  {
   "cell_type": "markdown",
   "metadata": {},
   "source": [
    "**Q1.6)Accessing Records and Variable in Python**"
   ]
  },
  {
   "cell_type": "code",
   "execution_count": null,
   "metadata": {},
   "outputs": [],
   "source": [
    "import pandas as pd\n",
    "data=pd.read_csv(\"./Datasets/import_tutorial.csv\")\n",
    "print(data)"
   ]
  }
 ],
 "metadata": {
  "kernelspec": {
   "display_name": "tf",
   "language": "python",
   "name": "python3"
  },
  "language_info": {
   "codemirror_mode": {
    "name": "ipython",
    "version": 3
   },
   "file_extension": ".py",
   "mimetype": "text/x-python",
   "name": "python",
   "nbconvert_exporter": "python",
   "pygments_lexer": "ipython3",
   "version": "3.9.16"
  }
 },
 "nbformat": 4,
 "nbformat_minor": 2
}
